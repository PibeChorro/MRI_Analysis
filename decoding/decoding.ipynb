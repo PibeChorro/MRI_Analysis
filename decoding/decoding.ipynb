{
 "cells": [
  {
   "cell_type": "code",
   "execution_count": 88,
   "metadata": {},
   "outputs": [],
   "source": [
    "#############\n",
    "# LIBRARIES #\n",
    "#############\n",
    "\n",
    "# libraries to interact with the operating system \n",
    "import os\n",
    "import sys\n",
    "import glob\n",
    "# libraries for data structuration and calculations\n",
    "import pandas as pd  # to create data frames\n",
    "import numpy as np   # most important numerical calculations\n",
    "# to read in mat files\n",
    "import readmat\n",
    "# needed to extract the run number out of the parentesis of the string in the SPM.mat file\n",
    "import re\n",
    "# library for neuroimaging\n",
    "import nibabel as nib\n",
    "# machine learning algorithms and stuff\n",
    "from sklearn.discriminant_analysis import LinearDiscriminantAnalysis as LDA\n",
    "from sklearn.model_selection import cross_val_score, PredefinedSplit, permutation_test_score\n",
    "# to check and optimize time performance\n",
    "import time\n",
    "import multiprocessing\n",
    "# plotting\n",
    "import matplotlib.pyplot as plt"
   ]
  },
  {
   "cell_type": "code",
   "execution_count": 240,
   "metadata": {},
   "outputs": [],
   "source": [
    "# variables for permutation testing\n",
    "rng_seed = 1\n",
    "\n",
    "# Number of permutations\n",
    "n_permutations = 1000\n",
    "\n",
    "# Number of CPUs\n",
    "max_num_CPU = 24                          # do not use more than that\n",
    "num_CPU = multiprocessing.cpu_count()     # get number of cores\n",
    "# TODO: improve\n",
    "n_proc = min([num_CPU,max_num_CPU])       # set the number of cores that should be used"
   ]
  },
  {
   "cell_type": "code",
   "execution_count": 247,
   "metadata": {},
   "outputs": [
    {
     "name": "stderr",
     "output_type": "stream",
     "text": [
      "/Users/vpl/miniconda3/lib/python3.7/site-packages/ipykernel_launcher.py:67: SettingWithCopyWarning: \n",
      "A value is trying to be set on a copy of a slice from a DataFrame\n",
      "\n",
      "See the caveats in the documentation: https://pandas.pydata.org/pandas-docs/stable/user_guide/indexing.html#returning-a-view-versus-a-copy\n"
     ]
    }
   ],
   "source": [
    "################################################################################################\n",
    "# TEST FIELD TO DECODE ONLY ONE DECODER ON ONE SUBJECT AND ONE ROI - LATER TO BE USED IN LOOPS #\n",
    "################################################################################################\n",
    "\n",
    "# declare all path names\n",
    "data_dir = '/Users/vpl/Documents/Master_Thesis/DATA/BIDS_playground/derivatives/spm12-glm'     # directory where to look for subjects\n",
    "GLM_name = 'TrickVersionSpecialMoment'\n",
    "GLM_dir = os.path.join(data_dir, GLM_name)\n",
    "surfer_dir = '/Users/vpl/Documents/Master_Thesis/DATA/BIDS_playground/derivatives/surfer/'\n",
    "subject_name = 'sub-%02i' %1\n",
    "subject_dir = os.path.join(GLM_dir, subject_name)\n",
    "SPM_mat_dir = os.path.join(subject_dir , 'SPM.mat')\n",
    "ROI_name = '*.wang15atlas.LO1.nii'\n",
    "ROI_dir = os.path.join(surfer_dir,subject_name,'ROIs',ROI_name)\n",
    "\n",
    "##############################################################\n",
    "# TODO: write recursive function that reads in all files in  #\n",
    "# case there are more than two files (eg. both hemispheres of#\n",
    "# LO1 and LO2)                                               #\n",
    "##############################################################\n",
    "\n",
    "# read in the left and right hemisphere files of the current ROI\n",
    "all_ROI_parts = glob.glob(ROI_dir)\n",
    "left = nib.load(all_ROI_parts[0])\n",
    "right = nib.load(all_ROI_parts[1])\n",
    "\n",
    "# get data from read file\n",
    "left_mask = left.get_fdata()\n",
    "right_mask = right.get_fdata()\n",
    "\n",
    "# convert into numpy array - IMPORTANT set the dtype for bitwise comparision \n",
    "left_mask = np.asarray(left_mask,dtype=bool)\n",
    "right_mask = np.asarray(right_mask,dtype=bool)\n",
    "\n",
    "# combine both hemispheres\n",
    "left_right = np.bitwise_or(right_mask, left_mask)\n",
    "# make it one dimensional\n",
    "left_right = left_right.flatten()\n",
    "\n",
    "label_names = [\n",
    "    'Appear',\n",
    "    'Change',\n",
    "    'Vanish'\n",
    "] \n",
    "analysis = ''     # we can do searchlight, wholebrain or ROI analysis\n",
    "\n",
    "# From the previously created SPM.mat file we read in information we need\n",
    "# The filenames of our beta images\n",
    "SPM_betadict = readmat.load(SPM_mat_dir, isStruct=True)['SPM']['Vbeta']\n",
    "betas = [f['fname'] for f in SPM_betadict]\n",
    "# The corresponding Regressor names - are in form of \n",
    "SPM_regressors = readmat.load(SPM_mat_dir,isStruct=True)['SPM']['xX']['name']\n",
    "data_dict = {\n",
    "    'Regressors': SPM_regressors,\n",
    "    'BetaNames': betas\n",
    "}\n",
    "\n",
    "label_df = pd.DataFrame(data_dict, columns=data_dict.keys())\n",
    "x = [' '.join(re.findall(r\"\\((\\d+)\\)\",string)) for string in label_df.Regressors]\n",
    "runs = [int(s_filter.split()[0]) for s_filter in x]\n",
    "label_df['Runs'] = runs\n",
    "regressors_of_interest = [True if any(i in n for i in label_names) else False for n in SPM_regressors]\n",
    "label_df = label_df.iloc[regressors_of_interest]\n",
    "label_df['Chunks'] = label_df.Runs//2\n",
    "label_df['Labels'] = np.nan\n",
    "for l in label_names:\n",
    "    label_df.Labels[label_df.Regressors.str.contains(l)] = l\n",
    "\n",
    "betas = []\n",
    "for b, beta in enumerate(label_df.BetaNames):\n",
    "    beta_nii = nib.load(os.path.join(subject_dir,beta))\n",
    "    beta_data = beta_nii.get_fdata()\n",
    "    beta_data = beta_data.flatten()\n",
    "    beta_data = beta_data[left_right]\n",
    "    beta_data = beta_data[~np.isnan(beta_data)]\n",
    "    betas.append(beta_data)\n",
    "betas = np.array(betas)"
   ]
  },
  {
   "cell_type": "code",
   "execution_count": 248,
   "metadata": {},
   "outputs": [
    {
     "data": {
      "text/plain": [
       "False"
      ]
     },
     "execution_count": 248,
     "metadata": {},
     "output_type": "execute_result"
    }
   ],
   "source": [
    "any(sum(np.isnan(betas)))"
   ]
  },
  {
   "cell_type": "code",
   "execution_count": 249,
   "metadata": {},
   "outputs": [
    {
     "name": "stderr",
     "output_type": "stream",
     "text": [
      "[Parallel(n_jobs=8)]: Using backend LokyBackend with 8 concurrent workers.\n",
      "[Parallel(n_jobs=8)]: Done  16 tasks      | elapsed:    7.3s\n",
      "[Parallel(n_jobs=8)]: Done 112 tasks      | elapsed:   41.0s\n",
      "[Parallel(n_jobs=8)]: Done 272 tasks      | elapsed:  1.6min\n",
      "[Parallel(n_jobs=8)]: Done 496 tasks      | elapsed:  2.9min\n",
      "[Parallel(n_jobs=8)]: Done 784 tasks      | elapsed:  4.5min\n",
      "[Parallel(n_jobs=8)]: Done 1000 out of 1000 | elapsed:  5.7min finished\n"
     ]
    }
   ],
   "source": [
    "targets = np.asarray(label_df.Labels)\n",
    "chunks = np.asarray(label_df.Chunks)\n",
    "if n_permutations > 0:\n",
    "    res = permutation_test_score(\n",
    "        LDA(solver='lsqr', shrinkage='auto'),\n",
    "        betas,\n",
    "        targets,\n",
    "        groups=chunks,\n",
    "        cv=PredefinedSplit(chunks),\n",
    "        n_permutations=n_permutations,\n",
    "        random_state=rng_seed,\n",
    "        n_jobs=n_proc,\n",
    "        verbose=3)\n",
    "    accuracy = res[0]\n",
    "    null_distribution = res[1]\n",
    "    p_value = res[2]"
   ]
  },
  {
   "cell_type": "code",
   "execution_count": 250,
   "metadata": {},
   "outputs": [
    {
     "data": {
      "image/png": "[encoded data removed]",
      "text/plain": [
       "<Figure size 432x288 with 1 Axes>"
      ]
     },
     "metadata": {
      "needs_background": "light"
     },
     "output_type": "display_data"
    }
   ],
   "source": [
    "if n_permutations > 0:\n",
    "    plt.hist(null_distribution)\n",
    "    y_min, y_max = plt.ylim()\n",
    "    plt.vlines(1/len(label_names), y_min, y_max, color='k', linestyles='--')\n",
    "    plt.vlines(accuracy, y_min, y_max, color='orange')"
   ]
  },
  {
   "cell_type": "code",
   "execution_count": null,
   "metadata": {},
   "outputs": [],
   "source": [
    "# outer loop - iterating over subjects\n",
    "for sub,s in enumerate(subjects):\n",
    "    \n",
    "    # probably better use os.path.join()\n",
    "    GLM_dir = ''      # directory of the GLM used (we have more than one GLM - probably going to be an array)\n",
    "    betadata_dir = data_dir + GLM_dir + sub # folder containing the beta images from the previously calculated GLM \n",
    "    betas = nib.load(betadata_dir)\n",
    "\n",
    "    SPM_mat_dir = betadata_dir + 'SPM.mat'\n",
    "    SPM_mat = readmat.load(SPM_mat_dir, isStruct=True)\n",
    "\n",
    "    mask_dir = ''     # folder containing mask images ()\n",
    "    ROIs = ''\n",
    "    output_dir = ''   # where to store the results\n",
    "    \n",
    "    # inner loop - iterating over mask (=ROIs)\n",
    "    for r, roi in enumerate(ROIs):\n",
    "        # load in ROI mask image\n",
    "        mask_img = nib.load(roi)\n",
    "        # get all beta files\n",
    "        betafiles = ''\n",
    "        # iterate over all beta images in directory\n",
    "        for b, beta in enumerate (betafiles):\n",
    "            # load in beta file\n",
    "            beta_img = nib.load(beta)\n",
    "            beta_data = beta_img.get_fdata()\n",
    "            # apply mask on beta image\n",
    "            "
   ]
  },
  {
   "cell_type": "code",
   "execution_count": null,
   "metadata": {},
   "outputs": [],
   "source": [
    "# load NIfTIs \n",
    "mask = nib.load(mask_dir)       # check out how this works for multiple masks - probably need to loop over all masks\n",
    "betas = nib.load(batadata_dir)  # check out how this works for non-compressed data - or compress the data\n",
    "\n",
    "# Convert multiple 3D (or one 4D) data to 2D format\n",
    "\n",
    "# define what data should be training and what data should be test data \n",
    "# we want to train on two third and test on the remaining third (we showed videos of balls, cards and sticks appearing, changing color or vanishing)\n",
    "# therefore we train on the videos of two objects and test on the remaining object using cross validation\n",
    "\n",
    "# Do the actual decoding"
   ]
  },
  {
   "cell_type": "code",
   "execution_count": 105,
   "metadata": {},
   "outputs": [],
   "source": [
    "###############################################\n",
    "# TEST DIFFERENT WAYS OF LOADING MATLAB FILES #\n",
    "###############################################\n",
    "#import tables\n",
    "#import scipy\n",
    "#import h5py\n",
    "#from mat4py import loadmat\n",
    "\n",
    "readmat_example = readmat.load(SPM_mat_dir, isStruct=True)['SPM']['Vbeta']\n",
    "#table_example = tables.open_file(SPM_mat_dir)   # ERROR\n",
    "#scipy_example = scipy.io.loadmat(SPM_mat_dir)\n",
    "#hdf_example = h5py.File(SPM_mat_dir,'r')        # ERROR\n",
    "#data = f.get('data/variable1')\n",
    "#mat4py_example = loadmat(SPM_mat_dir)           # ERROR"
   ]
  }
 ],
 "metadata": {
  "kernelspec": {
   "display_name": "Python 3",
   "language": "python",
   "name": "python3"
  },
  "language_info": {
   "codemirror_mode": {
    "name": "ipython",
    "version": 3
   },
   "file_extension": ".py",
   "mimetype": "text/x-python",
   "name": "python",
   "nbconvert_exporter": "python",
   "pygments_lexer": "ipython3",
   "version": "3.7.6"
  }
 },
 "nbformat": 4,
 "nbformat_minor": 4
}
